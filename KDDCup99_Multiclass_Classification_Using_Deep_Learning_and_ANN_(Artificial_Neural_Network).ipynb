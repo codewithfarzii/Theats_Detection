{
  "nbformat": 4,
  "nbformat_minor": 0,
  "metadata": {
    "colab": {
      "private_outputs": true,
      "provenance": [],
      "gpuType": "T4"
    },
    "kernelspec": {
      "name": "python3",
      "display_name": "Python 3"
    },
    "language_info": {
      "name": "python"
    },
    "accelerator": "GPU"
  },
  "cells": [
    {
      "cell_type": "markdown",
      "source": [
        "# **KDDCup99 Multiclass Classification Using Deep Learning**"
      ],
      "metadata": {
        "id": "s94IK5UpIpxg"
      }
    },
    {
      "cell_type": "markdown",
      "source": [
        "## **Import Essential Libraries**"
      ],
      "metadata": {
        "id": "6FYKf9lyI2n7"
      }
    },
    {
      "cell_type": "code",
      "execution_count": null,
      "metadata": {
        "id": "VXoTBlmSIlEz"
      },
      "outputs": [],
      "source": [
        "import numpy as np\n",
        "import pandas as pd\n",
        "import tensorflow as tf\n",
        "from tensorflow import keras\n",
        "from sklearn.preprocessing import LabelEncoder, MinMaxScaler\n",
        "from sklearn.model_selection import train_test_split\n",
        "from sklearn.metrics import classification_report, confusion_matrix\n",
        "import matplotlib.pyplot as plt\n",
        "import seaborn as sns"
      ]
    },
    {
      "cell_type": "markdown",
      "source": [
        "## **Mount Google Drive**"
      ],
      "metadata": {
        "id": "-O6wWTd75Lzm"
      }
    },
    {
      "cell_type": "code",
      "source": [
        "from google.colab import drive\n",
        "drive.mount('/content/drive')"
      ],
      "metadata": {
        "id": "ycvJjbOI5PbT"
      },
      "execution_count": null,
      "outputs": []
    },
    {
      "cell_type": "markdown",
      "source": [
        "## **Load The Dataset**"
      ],
      "metadata": {
        "id": "UWVcCAhMJAdW"
      }
    },
    {
      "cell_type": "code",
      "source": [
        "# Load the dataset\n",
        "df = pd.read_csv('/content/drive/MyDrive/KDDCUP99 Data Set/kddcup-99.csv')\n",
        "df.head()"
      ],
      "metadata": {
        "id": "2fRImVisI9lf"
      },
      "execution_count": null,
      "outputs": []
    },
    {
      "cell_type": "markdown",
      "source": [
        "## **Convert Categorical Code into Numerical Ones**"
      ],
      "metadata": {
        "id": "kOEejaUjJh9G"
      }
    },
    {
      "cell_type": "code",
      "source": [
        "# Convert categorical variables to numerical variables\n",
        "categorical_columns = ['protocol_type', 'service', 'flag', 'outcome']\n",
        "label_encoders = {}\n",
        "for col in categorical_columns:\n",
        "    le = LabelEncoder()\n",
        "    df[col] = le.fit_transform(df[col])\n",
        "    label_encoders[col] = le"
      ],
      "metadata": {
        "id": "SJtn0zTKI9Tz"
      },
      "execution_count": null,
      "outputs": []
    },
    {
      "cell_type": "markdown",
      "source": [
        "## **Split the Data into Target and Features**"
      ],
      "metadata": {
        "id": "VIPbgYpOL9r1"
      }
    },
    {
      "cell_type": "code",
      "source": [
        "# Split the data into features and target\n",
        "X = df.drop('outcome', axis=1)\n",
        "y = df['outcome']"
      ],
      "metadata": {
        "id": "mkoQOORmI6qY"
      },
      "execution_count": null,
      "outputs": []
    },
    {
      "cell_type": "code",
      "source": [
        "# Scale the numerical variables\n",
        "scaler = MinMaxScaler()\n",
        "X[X.columns] = scaler.fit_transform(X)"
      ],
      "metadata": {
        "id": "5bTqn4f4nN_i"
      },
      "execution_count": null,
      "outputs": []
    },
    {
      "cell_type": "code",
      "source": [
        "# Split the data into training and testing sets\n",
        "X_train, X_test, y_train, y_test = train_test_split(X, y, test_size=0.25, random_state=100, shuffle=True)"
      ],
      "metadata": {
        "id": "upmQQHGanQep"
      },
      "execution_count": null,
      "outputs": []
    },
    {
      "cell_type": "markdown",
      "source": [
        "## **Deep Learning Model Creation**"
      ],
      "metadata": {
        "id": "c8H5EjaBMEtP"
      }
    },
    {
      "cell_type": "code",
      "source": [
        "# Build the model\n",
        "model = keras.Sequential([\n",
        "    keras.layers.Input(shape=(X_train.shape[1],)),\n",
        "    keras.layers.Dense(128, activation='relu'),\n",
        "    keras.layers.Dense(64, activation='relu'),\n",
        "    keras.layers.Dense(32, activation='relu'),\n",
        "    keras.layers.Dense(y_train.nunique(), activation='softmax')\n",
        "])"
      ],
      "metadata": {
        "id": "qGrDY9EcMCWc"
      },
      "execution_count": null,
      "outputs": []
    },
    {
      "cell_type": "markdown",
      "source": [
        "## **Compile and Fit The Model**"
      ],
      "metadata": {
        "id": "mNK65e_yMKWR"
      }
    },
    {
      "cell_type": "code",
      "source": [
        "# Compile the model\n",
        "model.compile(optimizer='adam', loss='sparse_categorical_crossentropy', metrics=['accuracy'])\n",
        "\n",
        "# Train the model\n",
        "history = model.fit(X_train, y_train, epochs=5, batch_size=12, validation_split=0.2)"
      ],
      "metadata": {
        "id": "GQztQhoDMIMK"
      },
      "execution_count": null,
      "outputs": []
    },
    {
      "cell_type": "markdown",
      "source": [
        "## **Evaluate The Model**"
      ],
      "metadata": {
        "id": "lJ-C1WmkM2hc"
      }
    },
    {
      "cell_type": "code",
      "source": [
        "# Evaluate the model\n",
        "test_loss, test_accuracy = model.evaluate(X_test, y_test)\n",
        "print(f'Test Loss: {test_loss:.4f}, Test Accuracy: {test_accuracy:.4f}')"
      ],
      "metadata": {
        "id": "tqnnHw6RMN91"
      },
      "execution_count": null,
      "outputs": []
    },
    {
      "cell_type": "markdown",
      "source": [
        "## **Saving The Model**"
      ],
      "metadata": {
        "id": "J2xOgoo4O55J"
      }
    },
    {
      "cell_type": "code",
      "source": [
        "# Save the model\n",
        "model.save('/content/drive/MyDrive/KDDCUP99 Data Set/kddcup.h5')"
      ],
      "metadata": {
        "id": "4AKwFeQgO2qp"
      },
      "execution_count": null,
      "outputs": []
    },
    {
      "cell_type": "markdown",
      "source": [
        "## **Plot The Graph**"
      ],
      "metadata": {
        "id": "wrzvJ3bAQGd0"
      }
    },
    {
      "cell_type": "code",
      "source": [
        "# Plot training and validation loss\n",
        "plt.figure(figsize=(10, 6))\n",
        "plt.plot(history.history['loss'], label='Training Loss')\n",
        "plt.plot(history.history['val_loss'], label='Validation Loss')\n",
        "plt.title('Training and Validation Loss')\n",
        "plt.xlabel('Epoch')\n",
        "plt.ylabel('Loss')\n",
        "plt.legend()\n",
        "plt.show()"
      ],
      "metadata": {
        "id": "bTQKaP2nQEG3"
      },
      "execution_count": null,
      "outputs": []
    },
    {
      "cell_type": "code",
      "source": [
        "# Plot training and validation accuracy\n",
        "plt.figure(figsize=(10, 6))\n",
        "plt.plot(history.history['accuracy'], label='Training Accuracy')\n",
        "plt.plot(history.history['val_accuracy'], label='Validation Accuracy')\n",
        "plt.title('Training and Validation Accuracy')\n",
        "plt.xlabel('Epoch')\n",
        "plt.ylabel('Accuracy')\n",
        "plt.legend()\n",
        "plt.show()"
      ],
      "metadata": {
        "id": "0KU-yS9ZQMGu"
      },
      "execution_count": null,
      "outputs": []
    },
    {
      "cell_type": "markdown",
      "source": [
        "## **Create Confusion Matrix**"
      ],
      "metadata": {
        "id": "KCzsw4jYQvTp"
      }
    },
    {
      "cell_type": "code",
      "source": [
        "from sklearn.metrics import classification_report, confusion_matrix\n",
        "import matplotlib.pyplot as plt\n",
        "import seaborn as sns"
      ],
      "metadata": {
        "id": "NSqREbhBQOxr"
      },
      "execution_count": null,
      "outputs": []
    },
    {
      "cell_type": "code",
      "source": [
        "# Generate confusion matrix\n",
        "y_pred = model.predict(X_test)\n",
        "y_pred_classes = np.argmax(y_pred, axis=1)\n",
        "\n",
        "# Plot confusion matrix\n",
        "conf_matrix = confusion_matrix(y_test, y_pred_classes)\n",
        "plt.figure(figsize=(10, 8))\n",
        "sns.heatmap(conf_matrix, annot=True, fmt='d', cmap='Blues')\n",
        "plt.title('Confusion Matrix')\n",
        "plt.xlabel('Predicted')\n",
        "plt.ylabel('Actual')\n",
        "plt.show()"
      ],
      "metadata": {
        "id": "NYXBnDeBRTnP"
      },
      "execution_count": null,
      "outputs": []
    },
    {
      "cell_type": "markdown",
      "source": [
        "## **Classification Report**"
      ],
      "metadata": {
        "id": "6bcMxlDt_tu_"
      }
    },
    {
      "cell_type": "code",
      "source": [
        "# Classification Report\n",
        "class_names = label_encoders['outcome'].classes_\n",
        "classification_rep = classification_report(y_test, y_pred_classes, target_names=class_names, labels=np.unique(y_pred_classes))\n",
        "print(\"Classification Report:\\n\", classification_rep)"
      ],
      "metadata": {
        "id": "AZKVTKfd_wAo"
      },
      "execution_count": null,
      "outputs": []
    },
    {
      "cell_type": "markdown",
      "source": [
        "## **ANN (Artificial Neural Network)**"
      ],
      "metadata": {
        "id": "OJ179HxLRuMD"
      }
    },
    {
      "cell_type": "markdown",
      "source": [
        "## **Import Essential Libraries**"
      ],
      "metadata": {
        "id": "etaXbOqvR0Tc"
      }
    },
    {
      "cell_type": "code",
      "source": [
        "import numpy as np\n",
        "from sklearn.neural_network import MLPClassifier\n",
        "from sklearn.metrics import mean_squared_error, mean_absolute_error, accuracy_score, r2_score, precision_score, recall_score, f1_score, confusion_matrix\n",
        "from sklearn.model_selection import train_test_split\n",
        "import joblib\n",
        "import matplotlib.pyplot as plt\n",
        "import pandas as pd\n",
        "from sklearn.preprocessing import LabelEncoder, StandardScaler, MinMaxScaler\n",
        "from sklearn.model_selection import train_test_split"
      ],
      "metadata": {
        "id": "UllaAiYpRWnN"
      },
      "execution_count": null,
      "outputs": []
    },
    {
      "cell_type": "markdown",
      "source": [
        "## **Load Dataset**"
      ],
      "metadata": {
        "id": "w5dT7LBwSYjJ"
      }
    },
    {
      "cell_type": "code",
      "source": [
        "# Load the dataset\n",
        "df = pd.read_csv('/content/drive/MyDrive/KDDCUP99 Data Set/kddcup-99.csv')\n",
        "df.head()"
      ],
      "metadata": {
        "id": "toQ330E-Rih6"
      },
      "execution_count": null,
      "outputs": []
    },
    {
      "cell_type": "markdown",
      "source": [
        "## **Get Unique Features of Protocol Type, Service, Flag and Outcome**"
      ],
      "metadata": {
        "id": "dIdBkRmBTUHD"
      }
    },
    {
      "cell_type": "code",
      "source": [
        "df['protocol_type'].unique()"
      ],
      "metadata": {
        "id": "lSKAoJZQTP4Y"
      },
      "execution_count": null,
      "outputs": []
    },
    {
      "cell_type": "code",
      "source": [
        "df['flag'].unique()"
      ],
      "metadata": {
        "id": "PJ8Al9HETWVG"
      },
      "execution_count": null,
      "outputs": []
    },
    {
      "cell_type": "code",
      "source": [
        "df['service'].unique()"
      ],
      "metadata": {
        "id": "FCxeMK-rTaws"
      },
      "execution_count": null,
      "outputs": []
    },
    {
      "cell_type": "code",
      "source": [
        "df['outcome'].unique()"
      ],
      "metadata": {
        "id": "0eMCfX5PTc2i"
      },
      "execution_count": null,
      "outputs": []
    },
    {
      "cell_type": "markdown",
      "source": [
        "## **Label Encoding Dataset**"
      ],
      "metadata": {
        "id": "sZWeC-K2Tiy8"
      }
    },
    {
      "cell_type": "code",
      "source": [
        "# Select categorical features\n",
        "categorical_features = [\"protocol_type\", \"service\", \"flag\"]\n",
        "\n",
        "# Initialize label encoders\n",
        "label_encoders = {}\n",
        "for feature in categorical_features:\n",
        "    le = LabelEncoder()\n",
        "    df[feature] = le.fit_transform(df[feature])\n",
        "    label_encoders[feature] = le"
      ],
      "metadata": {
        "id": "j0hiWC9mTfQ8"
      },
      "execution_count": null,
      "outputs": []
    },
    {
      "cell_type": "markdown",
      "source": [
        "## **Save The Label Encoding**"
      ],
      "metadata": {
        "id": "CxWubM_mTog_"
      }
    },
    {
      "cell_type": "code",
      "source": [
        "label_encoders_filename = '/content/drive/MyDrive/KDDCUP99 Data Set/label_encoders.pkl'\n",
        "joblib.dump(label_encoders, label_encoders_filename)"
      ],
      "metadata": {
        "id": "lH7-PfYNTlYq"
      },
      "execution_count": null,
      "outputs": []
    },
    {
      "cell_type": "markdown",
      "source": [
        "## **Split the data into Train and Test**"
      ],
      "metadata": {
        "id": "-UEFtPmmTtsT"
      }
    },
    {
      "cell_type": "code",
      "source": [
        "# Split the data into features and target\n",
        "X = df.drop('outcome', axis=1)\n",
        "y = df['outcome']\n",
        "\n",
        "# Scale the numerical variables\n",
        "scaler = MinMaxScaler()\n",
        "X[X.columns] = scaler.fit_transform(X)\n",
        "\n",
        "# Split the data into training and testing sets\n",
        "X_train, X_test, y_train, y_test = train_test_split(X, y, test_size=0.25, random_state=100, shuffle=True)"
      ],
      "metadata": {
        "id": "AOqcB8eGTre8"
      },
      "execution_count": null,
      "outputs": []
    },
    {
      "cell_type": "markdown",
      "source": [
        "## **ADD ANN MLP Classifier**"
      ],
      "metadata": {
        "id": "2WjnnbGlT0x6"
      }
    },
    {
      "cell_type": "code",
      "source": [
        "from sklearn.neural_network import MLPClassifier\n",
        "\n",
        "# Define the ANN model\n",
        "model = MLPClassifier(hidden_layer_sizes=(64, 32), activation='relu', solver='adam', random_state=42)"
      ],
      "metadata": {
        "id": "G0F31tsiTw5m"
      },
      "execution_count": null,
      "outputs": []
    },
    {
      "cell_type": "markdown",
      "source": [
        "## **Train The Model**"
      ],
      "metadata": {
        "id": "UgBSaX2OT-db"
      }
    },
    {
      "cell_type": "code",
      "source": [
        "# Train the model\n",
        "model.fit(X_train, y_train)"
      ],
      "metadata": {
        "id": "tOXMk2XWT3-e"
      },
      "execution_count": null,
      "outputs": []
    },
    {
      "cell_type": "markdown",
      "source": [
        "## **Saving The Model**"
      ],
      "metadata": {
        "id": "K6_tkaOQUHBD"
      }
    },
    {
      "cell_type": "code",
      "source": [
        "# Save the trained model to a file\n",
        "model_filename = '/content/drive/MyDrive/KDDCUP99 Data Set/kddcup99ann.pkl'\n",
        "joblib.dump(model, model_filename)"
      ],
      "metadata": {
        "id": "JxNhboF4UAnx"
      },
      "execution_count": null,
      "outputs": []
    },
    {
      "cell_type": "markdown",
      "source": [
        "## **Generate Loss and Accuracy Graphs**"
      ],
      "metadata": {
        "id": "JiB80d_OE9sd"
      }
    },
    {
      "cell_type": "code",
      "source": [
        "loss_history = model.loss_curve_\n",
        "# Record accuracy values during training\n",
        "train_accuracy_history = []\n",
        "test_accuracy_history = []\n",
        "\n",
        "for epoch in range(len(loss_history)):\n",
        "    model.partial_fit(X_train, y_train)\n",
        "    train_accuracy = model.score(X_train, y_train)\n",
        "    test_accuracy = model.score(X_test, y_test)\n",
        "    train_accuracy_history.append(train_accuracy)\n",
        "    test_accuracy_history.append(test_accuracy)\n",
        "\n",
        "# Generate loss graph\n",
        "plt.figure(figsize=(6, 4))\n",
        "plt.plot(loss_history, label='Training Loss')\n",
        "plt.xlabel('Epochs')\n",
        "plt.ylabel('Loss')\n",
        "plt.title('Training Loss Curve')\n",
        "plt.legend()\n",
        "plt.show()\n",
        "\n",
        "# Generate accuracy graph\n",
        "plt.figure(figsize=(6, 4))\n",
        "plt.plot(train_accuracy_history, label='Training Accuracy')\n",
        "plt.plot(test_accuracy_history, label='Test Accuracy')\n",
        "plt.xlabel('Epochs')\n",
        "plt.ylabel('Accuracy')\n",
        "plt.title('Training and Test Accuracy')\n",
        "plt.legend()\n",
        "plt.tight_layout()\n",
        "plt.show()"
      ],
      "metadata": {
        "id": "fdJVo7UAFCrF"
      },
      "execution_count": null,
      "outputs": []
    },
    {
      "cell_type": "markdown",
      "source": [
        "## **Create Confusion Matrix**"
      ],
      "metadata": {
        "id": "Pph_taQAUaHZ"
      }
    },
    {
      "cell_type": "code",
      "source": [
        "plt.figure(figsize=(10, 8))\n",
        "sns.set(font_scale=1.2)\n",
        "sns.heatmap(conf_matrix, annot=True, fmt=\"d\", cmap=\"Blues\",\n",
        "            xticklabels=model.classes_, yticklabels=model.classes_)\n",
        "plt.xlabel('Predicted Labels')\n",
        "plt.ylabel('True Labels')\n",
        "plt.title('Confusion Matrix')\n",
        "plt.show()\n"
      ],
      "metadata": {
        "id": "SYcdeIWdUdJy"
      },
      "execution_count": null,
      "outputs": []
    },
    {
      "cell_type": "markdown",
      "source": [
        "## **Classification Report**"
      ],
      "metadata": {
        "id": "fOrjSSq7JqJO"
      }
    },
    {
      "cell_type": "code",
      "source": [
        "# Generate classification report\n",
        "y_pred = model.predict(X_test)\n",
        "class_report = classification_report(y_test, y_pred)\n",
        "print(\"Classification Report:\\n\", class_report)\n",
        "\n",
        "# Generate confusion matrix\n",
        "conf_matrix = confusion_matrix(y_test, y_pred)"
      ],
      "metadata": {
        "id": "2wO5T2iAI1tA"
      },
      "execution_count": null,
      "outputs": []
    },
    {
      "cell_type": "code",
      "source": [],
      "metadata": {
        "id": "-JL8W5TsWa7D"
      },
      "execution_count": null,
      "outputs": []
    }
  ]
}